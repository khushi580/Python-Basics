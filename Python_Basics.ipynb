{
  "nbformat": 4,
  "nbformat_minor": 0,
  "metadata": {
    "colab": {
      "provenance": []
    },
    "kernelspec": {
      "name": "python3",
      "display_name": "Python 3"
    },
    "language_info": {
      "name": "python"
    }
  },
  "cells": [
    {
      "cell_type": "code",
      "execution_count": 1,
      "metadata": {
        "colab": {
          "base_uri": "https://localhost:8080/"
        },
        "id": "lmSvqJGGLSzT",
        "outputId": "253dcb7c-166d-4c29-f63e-4a1e91f2cf2c"
      },
      "outputs": [
        {
          "output_type": "stream",
          "name": "stdout",
          "text": [
            "Hello, World!\n"
          ]
        }
      ],
      "source": [
        "#Write a Python program to print \"Hello, World!\n",
        "print(\"Hello, World!\")"
      ]
    },
    {
      "cell_type": "code",
      "source": [
        "#Write a Python program that displays your name and age.\n",
        "name = \"Khushi Sharma\"\n",
        "age = 25\n",
        "\n",
        "print(\"My name is\", name)\n",
        "print(\"I am\", age, \"years old\")\n"
      ],
      "metadata": {
        "colab": {
          "base_uri": "https://localhost:8080/"
        },
        "id": "YPPCaDd8MLXN",
        "outputId": "c95d802e-65bb-4d8e-edda-5d1feabc039b"
      },
      "execution_count": 2,
      "outputs": [
        {
          "output_type": "stream",
          "name": "stdout",
          "text": [
            "My name is Khushi Sharma\n",
            "I am 25 years old\n"
          ]
        }
      ]
    },
    {
      "cell_type": "code",
      "source": [
        "#Write code to print all the pre-defined keywords in Python using the keyword library.\n",
        "\n",
        "import keyword\n",
        "\n",
        "# Get the list of all Python keywords\n",
        "keywords_list = keyword.kwlist\n",
        "\n",
        "# Print the keywords\n",
        "print(\"Python Keywords:\")\n",
        "for kw in keywords_list:\n",
        "    print(kw)"
      ],
      "metadata": {
        "colab": {
          "base_uri": "https://localhost:8080/"
        },
        "id": "3aZlSw65Mrv1",
        "outputId": "88a7b8c1-630f-4157-8e7a-2ef619b8269f"
      },
      "execution_count": 3,
      "outputs": [
        {
          "output_type": "stream",
          "name": "stdout",
          "text": [
            "Python Keywords:\n",
            "False\n",
            "None\n",
            "True\n",
            "and\n",
            "as\n",
            "assert\n",
            "async\n",
            "await\n",
            "break\n",
            "class\n",
            "continue\n",
            "def\n",
            "del\n",
            "elif\n",
            "else\n",
            "except\n",
            "finally\n",
            "for\n",
            "from\n",
            "global\n",
            "if\n",
            "import\n",
            "in\n",
            "is\n",
            "lambda\n",
            "nonlocal\n",
            "not\n",
            "or\n",
            "pass\n",
            "raise\n",
            "return\n",
            "try\n",
            "while\n",
            "with\n",
            "yield\n"
          ]
        }
      ]
    },
    {
      "cell_type": "code",
      "source": [
        "#Write a program that checks if a given word is a Python keyword.\n",
        "import keyword\n",
        "\n",
        "# Ask user for input\n",
        "word = input(\"Enter a word: \")\n",
        "\n",
        "# Check if it's a Python keyword\n",
        "if keyword.iskeyword(word):\n",
        "    print(f\"'{word}' is a Python keyword.\")\n",
        "else:\n",
        "    print(f\"'{word}' is NOT a Python keyword.\")"
      ],
      "metadata": {
        "colab": {
          "base_uri": "https://localhost:8080/"
        },
        "id": "BmhHXslFNB9u",
        "outputId": "a437d3d6-3c41-4678-9472-04f1c1045949"
      },
      "execution_count": 6,
      "outputs": [
        {
          "output_type": "stream",
          "name": "stdout",
          "text": [
            "Enter a word: False\n",
            "'False' is a Python keyword.\n"
          ]
        }
      ]
    },
    {
      "cell_type": "code",
      "source": [
        "#Create a list and tuple in Python, and demonstrate how attempting to change an element works differently for each.\n",
        "# Creating a list\n",
        "my_list = [10, 20, 30]\n",
        "print(\"Original list:\", my_list)\n",
        "\n",
        "# Modifying an element in the list\n",
        "my_list[1] = 99\n",
        "print(\"Modified list:\", my_list)\n",
        "\n",
        "\n",
        "# Creating a tuple\n",
        "my_tuple = (10, 20, 30)\n",
        "print(\"\\nOriginal tuple:\", my_tuple)\n",
        "\n",
        "# Attempting to modify an element in the tuple\n",
        "try:\n",
        "    my_tuple[1] = 99\n",
        "except TypeError as e:\n",
        "    print(\"Error while modifying tuple:\", e)"
      ],
      "metadata": {
        "colab": {
          "base_uri": "https://localhost:8080/"
        },
        "id": "JtSQioz5Ni01",
        "outputId": "f767812d-527e-47ae-8009-755c49d1ef54"
      },
      "execution_count": 7,
      "outputs": [
        {
          "output_type": "stream",
          "name": "stdout",
          "text": [
            "Original list: [10, 20, 30]\n",
            "Modified list: [10, 99, 30]\n",
            "\n",
            "Original tuple: (10, 20, 30)\n",
            "Error while modifying tuple: 'tuple' object does not support item assignment\n"
          ]
        }
      ]
    },
    {
      "cell_type": "code",
      "source": [
        "#Write a function to demonstrate the behavior of mutable and immutable arguments.\n",
        "def modify_values(immutable_arg, mutable_arg):\n",
        "    # Try to change immutable argument (int)\n",
        "    immutable_arg += 10\n",
        "\n",
        "    # Try to change mutable argument (list)\n",
        "    mutable_arg.append(4)\n",
        "\n",
        "    print(\"Inside function:\")\n",
        "    print(\"Immutable arg:\", immutable_arg)\n",
        "    print(\"Mutable arg:\", mutable_arg)\n",
        "\n",
        "# Immutable argument (integer)\n",
        "x = 5\n",
        "\n",
        "# Mutable argument (list)\n",
        "y = [1, 2, 3]\n",
        "\n",
        "# Call the function\n",
        "modify_values(x, y)\n",
        "\n",
        "# Print after function call\n",
        "print(\"\\nOutside function:\")\n",
        "print(\"x (immutable):\", x)     # Unchanged\n",
        "print(\"y (mutable):\", y)       # Changed"
      ],
      "metadata": {
        "colab": {
          "base_uri": "https://localhost:8080/"
        },
        "id": "eccorGgeOUSl",
        "outputId": "f2303ca6-c104-4e3f-b094-45f9ad2cf58e"
      },
      "execution_count": 8,
      "outputs": [
        {
          "output_type": "stream",
          "name": "stdout",
          "text": [
            "Inside function:\n",
            "Immutable arg: 15\n",
            "Mutable arg: [1, 2, 3, 4]\n",
            "\n",
            "Outside function:\n",
            "x (immutable): 5\n",
            "y (mutable): [1, 2, 3, 4]\n"
          ]
        }
      ]
    },
    {
      "cell_type": "code",
      "source": [
        "#Write a program that performs basic arithmetic operations on two user-input numbers.\n",
        "# Get input from the user\n",
        "num1 = float(input(\"Enter first number: \"))\n",
        "num2 = float(input(\"Enter second number: \"))\n",
        "\n",
        "# Perform arithmetic operations\n",
        "print(\"\\nArithmetic Operations:\")\n",
        "print(\"Addition:\", num1 + num2)\n",
        "print(\"Subtraction:\", num1 - num2)\n",
        "print(\"Multiplication:\", num1 * num2)\n",
        "\n",
        "# Check for division by zero\n",
        "if num2 != 0:\n",
        "    print(\"Division:\", num1 / num2)\n",
        "    print(\"Modulus:\", num1 % num2)\n",
        "else:\n",
        "    print(\"Division: Cannot divide by zero\")\n",
        "    print(\"Modulus: Cannot perform modulus with zero\")"
      ],
      "metadata": {
        "colab": {
          "base_uri": "https://localhost:8080/"
        },
        "id": "xrasKGfqOjuG",
        "outputId": "a0e1d039-5229-47d7-d600-cf5109fe6f69"
      },
      "execution_count": null,
      "outputs": [
        {
          "name": "stdout",
          "output_type": "stream",
          "text": [
            "Enter first number: 1\n"
          ]
        }
      ]
    },
    {
      "cell_type": "code",
      "source": [
        "#Write a program to demonstrate the use of logical operators.\n",
        "# Logical operators demo\n",
        "\n",
        "a = True\n",
        "b = False\n",
        "\n",
        "# Using 'and' operator\n",
        "print(\"a and b =\", a and b)  # True only if both are True\n",
        "\n",
        "# Using 'or' operator\n",
        "print(\"a or b =\", a or b)    # True if at least one is True\n",
        "\n",
        "# Using 'not' operator\n",
        "print(\"not a =\", not a)      # Inverts the value of a\n",
        "print(\"not b =\", not b)"
      ],
      "metadata": {
        "id": "LYM7tZCiULej"
      },
      "execution_count": null,
      "outputs": []
    },
    {
      "cell_type": "code",
      "source": [
        "#Write a Python program to convert user input from string to integer, float, and boolean types.\n",
        "# Get input from the user as a string\n",
        "user_input = input(\"Enter a value: \")\n",
        "\n",
        "# Convert to integer\n",
        "try:\n",
        "    int_value = int(user_input)\n",
        "    print(\"Integer:\", int_value)\n",
        "except ValueError:\n",
        "    print(\"Cannot convert to integer.\")\n",
        "\n",
        "# Convert to float\n",
        "try:\n",
        "    float_value = float(user_input)\n",
        "    print(\"Float:\", float_value)\n",
        "except ValueError:\n",
        "    print(\"Cannot convert to float.\")\n",
        "\n",
        "# Convert to boolean\n",
        "# Any non-empty string (except \"False\", \"0\", \"none\" etc.) is considered True\n",
        "bool_value = bool(user_input.strip())  # Removes extra spaces\n",
        "print(\"Boolean:\", bool_value)"
      ],
      "metadata": {
        "id": "57ho4VMpUvlJ"
      },
      "execution_count": null,
      "outputs": []
    },
    {
      "cell_type": "code",
      "source": [
        "#Write code to demonstrate type casting with list elements.\n",
        "# Original list of strings\n",
        "string_list = [\"10\", \"20\", \"30\", \"40.5\"]\n",
        "\n",
        "# Convert to list of integers (excluding the float string to avoid error)\n",
        "int_list = [int(x) for x in string_list[:3]]\n",
        "print(\"List of integers:\", int_list)\n",
        "\n",
        "# Convert to list of floats\n",
        "float_list = [float(x) for x in string_list]\n",
        "print(\"List of floats:\", float_list)\n",
        "\n",
        "# Convert to list of booleans\n",
        "bool_list = [bool(x) for x in string_list]\n",
        "print(\"List of booleans:\", bool_list)\n"
      ],
      "metadata": {
        "id": "BIfxfBCXU7GK"
      },
      "execution_count": null,
      "outputs": []
    },
    {
      "cell_type": "code",
      "source": [
        "#Write a program that checks if a number is positive, negative, or zero.\n",
        "# Get number input from user\n",
        "num = float(input(\"Enter a number: \"))\n",
        "\n",
        "# Check the condition\n",
        "if num > 0:\n",
        "    print(\"The number is positive.\")\n",
        "elif num < 0:\n",
        "    print(\"The number is negative.\")\n",
        "else:\n",
        "    print(\"The number is zero.\")"
      ],
      "metadata": {
        "id": "aIxU86fyVP99"
      },
      "execution_count": null,
      "outputs": []
    },
    {
      "cell_type": "code",
      "source": [
        "#Write a for loop to print numbers from 1 to 10.\n",
        "for i in range(1, 11):\n",
        "    print(i)"
      ],
      "metadata": {
        "id": "jchEjlfdVasI"
      },
      "execution_count": null,
      "outputs": []
    },
    {
      "cell_type": "code",
      "source": [
        "#Write a Python program to find the sum of all even numbers between 1 and 50.\n",
        "# Initialize sum\n",
        "total = 0\n",
        "\n",
        "# Loop through numbers from 1 to 50\n",
        "for num in range(1, 51):\n",
        "    if num % 2 == 0:\n",
        "        total += num\n",
        "\n",
        "# Print the result\n",
        "print(\"Sum of even numbers from 1 to 50 is:\", total)"
      ],
      "metadata": {
        "id": "Hn47jLyUVmyi"
      },
      "execution_count": null,
      "outputs": []
    },
    {
      "cell_type": "code",
      "source": [
        "#Write a program to reverse a string using a while loop.\n",
        "# Get input from user\n",
        "original_str = input(\"Enter a string: \")\n",
        "\n",
        "# Initialize variables\n",
        "reversed_str = \"\"\n",
        "index = len(original_str) - 1\n",
        "\n",
        "# Loop to reverse the string\n",
        "while index >= 0:\n",
        "    reversed_str += original_str[index]\n",
        "    index -= 1\n",
        "\n",
        "# Print the reversed string\n",
        "print(\"Reversed string:\", reversed_str)"
      ],
      "metadata": {
        "id": "Y31y38IHV6tp"
      },
      "execution_count": null,
      "outputs": []
    },
    {
      "cell_type": "code",
      "source": [
        "#Write a Python program to calculate the factorial of a number provided by the user using a while loop.\n",
        "# Get input from user\n",
        "num = int(input(\"Enter a non-negative integer: \"))\n",
        "\n",
        "# Initialize factorial result\n",
        "factorial = 1\n",
        "\n",
        "# Check for negative input\n",
        "if num < 0:\n",
        "    print(\"Factorial is not defined for negative numbers.\")\n",
        "else:\n",
        "    i = 1\n",
        "    while i <= num:\n",
        "        factorial *= i\n",
        "        i += 1\n",
        "    print(f\"Factorial of {num} is {factorial}\")"
      ],
      "metadata": {
        "id": "jXr8AMupWI6Z"
      },
      "execution_count": null,
      "outputs": []
    }
  ]
}